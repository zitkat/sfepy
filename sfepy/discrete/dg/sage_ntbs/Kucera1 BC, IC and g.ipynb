{
 "cells": [
  {
   "cell_type": "markdown",
   "metadata": {},
   "source": [
    "This notebook contains derivation of BCs, IC and g for example based on\n",
    "\n",
    "Kučera, V. (n.d.). Higher order methods for the solution of compressible flows. Charles University. Retrieved from http://www.ncbi.nlm.nih.gov/pubmed/21188320, p. 21 eq. (1.39)"
   ]
  },
  {
   "cell_type": "markdown",
   "metadata": {},
   "source": [
    "### Solution"
   ]
  },
  {
   "cell_type": "code",
   "execution_count": 53,
   "metadata": {},
   "outputs": [
    {
     "data": {
      "text/plain": [
       "(x_1, x_2, t) |--> -(e^(-t) - 1)*(sin(5*x_1*x_2) + sin(-4*x_1*x_2 + 4*x_1 + 4*x_2))"
      ]
     },
     "execution_count": 53,
     "metadata": {},
     "output_type": "execute_result"
    }
   ],
   "source": [
    "var(\"x_1, x_2, t, u\")\n",
    "# solution is\n",
    "u(x_1, x_2, t) = (sin(4*(x_1 + x_2 - x_1 * x_2)) + sin(5*x_1*x_2))*(1 - exp(-t))\n",
    "u"
   ]
  },
  {
   "cell_type": "code",
   "execution_count": 54,
   "metadata": {},
   "outputs": [
    {
     "data": {
      "text/plain": [
       "(x_1, x_2, t) |--> -(5*x_2*cos(5*x_1*x_2) - 4*(x_2 - 1)*cos(-4*x_1*x_2 + 4*x_1 + 4*x_2))*(e^(-t) - 1)"
      ]
     },
     "execution_count": 54,
     "metadata": {},
     "output_type": "execute_result"
    }
   ],
   "source": [
    "du_1 = diff(u, x_1)\n",
    "du_1"
   ]
  },
  {
   "cell_type": "code",
   "execution_count": 55,
   "metadata": {},
   "outputs": [
    {
     "data": {
      "text/plain": [
       "(x_1, x_2, t) |--> -(5*x_1*cos(5*x_1*x_2) - 4*(x_1 - 1)*cos(-4*x_1*x_2 + 4*x_1 + 4*x_2))*(e^(-t) - 1)"
      ]
     },
     "execution_count": 55,
     "metadata": {},
     "output_type": "execute_result"
    }
   ],
   "source": [
    "du_2 = diff(u, x_2)\n",
    "du_2"
   ]
  },
  {
   "cell_type": "markdown",
   "metadata": {},
   "source": [
    "### Initial condition"
   ]
  },
  {
   "cell_type": "code",
   "execution_count": 56,
   "metadata": {},
   "outputs": [
    {
     "data": {
      "text/plain": [
       "0"
      ]
     },
     "execution_count": 56,
     "metadata": {},
     "output_type": "execute_result"
    }
   ],
   "source": [
    "u(t=0)"
   ]
  },
  {
   "cell_type": "markdown",
   "metadata": {},
   "source": [
    "### Boundary conditions"
   ]
  },
  {
   "cell_type": "code",
   "execution_count": 57,
   "metadata": {},
   "outputs": [],
   "source": [
    "# boundaries\n",
    "top = 1\n",
    "left = -1; right = 1\n",
    "bottom = -1"
   ]
  },
  {
   "cell_type": "code",
   "execution_count": 58,
   "metadata": {},
   "outputs": [
    {
     "data": {
      "text/plain": [
       "-(e^(-t) - 1)*(sin(-5*x_2) + sin(8*x_2 - 4))"
      ]
     },
     "execution_count": 58,
     "metadata": {},
     "output_type": "execute_result"
    }
   ],
   "source": [
    "# left\n",
    "u(x_1 = left)"
   ]
  },
  {
   "cell_type": "code",
   "execution_count": 59,
   "metadata": {},
   "outputs": [
    {
     "data": {
      "text/plain": [
       "(-(5*x_2*cos(-5*x_2) - 4*(x_2 - 1)*cos(8*x_2 - 4))*(e^(-t) - 1),\n",
       " (5*cos(-5*x_2) - 8*cos(8*x_2 - 4))*(e^(-t) - 1))"
      ]
     },
     "execution_count": 59,
     "metadata": {},
     "output_type": "execute_result"
    }
   ],
   "source": [
    "# left du\n",
    "(du_1(x_1=left), du_2(x_1=left))"
   ]
  },
  {
   "cell_type": "code",
   "execution_count": 60,
   "metadata": {},
   "outputs": [
    {
     "data": {
      "text/plain": [
       "-(e^(-t) - 1)*(sin(4) + sin(5*x_2))"
      ]
     },
     "execution_count": 60,
     "metadata": {},
     "output_type": "execute_result"
    }
   ],
   "source": [
    "# right\n",
    "u(x_1 = right)"
   ]
  },
  {
   "cell_type": "code",
   "execution_count": 61,
   "metadata": {},
   "outputs": [
    {
     "data": {
      "text/plain": [
       "((4*(x_2 - 1)*cos(4) - 5*x_2*cos(5*x_2))*(e^(-t) - 1),\n",
       " -5*(e^(-t) - 1)*cos(5*x_2))"
      ]
     },
     "execution_count": 61,
     "metadata": {},
     "output_type": "execute_result"
    }
   ],
   "source": [
    "# right du\n",
    "(du_1(x_1=right), du_2(x_1=right))"
   ]
  },
  {
   "cell_type": "code",
   "execution_count": 62,
   "metadata": {},
   "outputs": [
    {
     "data": {
      "text/plain": [
       "-(e^(-t) - 1)*(sin(-5*x_1) + sin(8*x_1 - 4))"
      ]
     },
     "execution_count": 62,
     "metadata": {},
     "output_type": "execute_result"
    }
   ],
   "source": [
    "# bottom\n",
    "u(x_2 = bottom)"
   ]
  },
  {
   "cell_type": "code",
   "execution_count": 63,
   "metadata": {},
   "outputs": [
    {
     "data": {
      "text/plain": [
       "((5*cos(-5*x_1) - 8*cos(8*x_1 - 4))*(e^(-t) - 1),\n",
       " -(5*x_1*cos(-5*x_1) - 4*(x_1 - 1)*cos(8*x_1 - 4))*(e^(-t) - 1))"
      ]
     },
     "execution_count": 63,
     "metadata": {},
     "output_type": "execute_result"
    }
   ],
   "source": [
    "# bottom du\n",
    "(du_1(x_2=bottom), du_2(x_2=bottom))"
   ]
  },
  {
   "cell_type": "code",
   "execution_count": 64,
   "metadata": {},
   "outputs": [
    {
     "data": {
      "text/plain": [
       "-(e^(-t) - 1)*(sin(4) + sin(5*x_1))"
      ]
     },
     "execution_count": 64,
     "metadata": {},
     "output_type": "execute_result"
    }
   ],
   "source": [
    "# top\n",
    "u(x_2 = top)"
   ]
  },
  {
   "cell_type": "code",
   "execution_count": 65,
   "metadata": {},
   "outputs": [
    {
     "data": {
      "text/plain": [
       "(-5*(e^(-t) - 1)*cos(5*x_1),\n",
       " (4*(x_1 - 1)*cos(4) - 5*x_1*cos(5*x_1))*(e^(-t) - 1))"
      ]
     },
     "execution_count": 65,
     "metadata": {},
     "output_type": "execute_result"
    }
   ],
   "source": [
    "# top du\n",
    "(du_1(x_2=top), du_2(x_2=top))"
   ]
  },
  {
   "cell_type": "markdown",
   "metadata": {},
   "source": [
    "### Right hand side $g$"
   ]
  },
  {
   "cell_type": "code",
   "execution_count": 66,
   "metadata": {},
   "outputs": [
    {
     "data": {
      "text/plain": [
       "(x_1, x_2, t) |--> (sin(5*x_1*x_2) + sin(-4*x_1*x_2 + 4*x_1 + 4*x_2))*e^(-t)"
      ]
     },
     "execution_count": 66,
     "metadata": {},
     "output_type": "execute_result"
    }
   ],
   "source": [
    "diff(u, t)"
   ]
  },
  {
   "cell_type": "code",
   "execution_count": 67,
   "metadata": {},
   "outputs": [
    {
     "data": {
      "text/plain": [
       "eps"
      ]
     },
     "execution_count": 67,
     "metadata": {},
     "output_type": "execute_result"
    }
   ],
   "source": [
    "var(\"eps\")"
   ]
  },
  {
   "cell_type": "code",
   "execution_count": 68,
   "metadata": {},
   "outputs": [
    {
     "data": {
      "text/plain": [
       "(x_1, x_2, t) |--> -(5*x_2*cos(5*x_1*x_2) - 4*(x_2 - 1)*cos(-4*x_1*x_2 + 4*x_1 + 4*x_2))*(e^(-t) - 1)"
      ]
     },
     "execution_count": 68,
     "metadata": {},
     "output_type": "execute_result"
    }
   ],
   "source": [
    "diff(u, x_1)"
   ]
  },
  {
   "cell_type": "code",
   "execution_count": 69,
   "metadata": {},
   "outputs": [
    {
     "data": {
      "text/plain": [
       "(x_1, x_2, t) |--> (25*x_2^2*sin(5*x_1*x_2) + 16*(x_2 - 1)^2*sin(-4*x_1*x_2 + 4*x_1 + 4*x_2))*(e^(-t) - 1)"
      ]
     },
     "execution_count": 69,
     "metadata": {},
     "output_type": "execute_result"
    }
   ],
   "source": [
    "diff(u, x_1, 2)"
   ]
  },
  {
   "cell_type": "code",
   "execution_count": 70,
   "metadata": {},
   "outputs": [
    {
     "data": {
      "text/plain": [
       "(x_1, x_2, t) |--> (5*x_1*cos(5*x_1*x_2) - 4*(x_1 - 1)*cos(-4*x_1*x_2 + 4*x_1 + 4*x_2))*(e^(-t) - 1)^2*(sin(5*x_1*x_2) + sin(-4*x_1*x_2 + 4*x_1 + 4*x_2)) + (5*x_2*cos(5*x_1*x_2) - 4*(x_2 - 1)*cos(-4*x_1*x_2 + 4*x_1 + 4*x_2))*(e^(-t) - 1)^2*(sin(5*x_1*x_2) + sin(-4*x_1*x_2 + 4*x_1 + 4*x_2)) - ((25*x_1^2*sin(5*x_1*x_2) + 16*(x_1 - 1)^2*sin(-4*x_1*x_2 + 4*x_1 + 4*x_2))*(e^(-t) - 1) + (25*x_2^2*sin(5*x_1*x_2) + 16*(x_2 - 1)^2*sin(-4*x_1*x_2 + 4*x_1 + 4*x_2))*(e^(-t) - 1))*eps + (sin(5*x_1*x_2) + sin(-4*x_1*x_2 + 4*x_1 + 4*x_2))*e^(-t)"
      ]
     },
     "execution_count": 70,
     "metadata": {},
     "output_type": "execute_result"
    }
   ],
   "source": [
    "assume(0 < x_1 < 1)\n",
    "assume(0 < x_2 < 1)\n",
    "g = diff(u, t) + 1/2*(diff(u**2, x_1) + diff(u**2, x_2)) - eps * (diff(u, x_1, 2) + diff(u, x_2, 2))\n",
    "g"
   ]
  },
  {
   "cell_type": "code",
   "execution_count": 71,
   "metadata": {},
   "outputs": [
    {
     "data": {
      "text/plain": [
       "(x_1, x_2, t) |--> (5*x_1*cos(5*x_1*x_2) - 4*(x_1 - 1)*cos(4*x_1*x_2 - 4*x_1 - 4*x_2))*(e^(-t) - 1)^2*(sin(5*x_1*x_2) - sin(4*x_1*x_2 - 4*x_1 - 4*x_2)) + (5*x_2*cos(5*x_1*x_2) - 4*(x_2 - 1)*cos(4*x_1*x_2 - 4*x_1 - 4*x_2))*(e^(-t) - 1)^2*(sin(5*x_1*x_2) - sin(4*x_1*x_2 - 4*x_1 - 4*x_2)) - ((25*x_1^2*sin(5*x_1*x_2) - 16*(x_1 - 1)^2*sin(4*x_1*x_2 - 4*x_1 - 4*x_2))*(e^(-t) - 1) + (25*x_2^2*sin(5*x_1*x_2) - 16*(x_2 - 1)^2*sin(4*x_1*x_2 - 4*x_1 - 4*x_2))*(e^(-t) - 1))*eps + (sin(5*x_1*x_2) - sin(4*x_1*x_2 - 4*x_1 - 4*x_2))*e^(-t)"
      ]
     },
     "execution_count": 71,
     "metadata": {},
     "output_type": "execute_result"
    }
   ],
   "source": [
    "simplify(g)"
   ]
  },
  {
   "cell_type": "code",
   "execution_count": 72,
   "metadata": {},
   "outputs": [
    {
     "data": {
      "text/plain": [
       "\\left( x_{1}, x_{2}, t \\right) \\ {\\mapsto} \\ {\\left(5 \\, x_{1} \\cos\\left(5 \\, x_{1} x_{2}\\right) - 4 \\, {\\left(x_{1} - 1\\right)} \\cos\\left(-4 \\, x_{1} x_{2} + 4 \\, x_{1} + 4 \\, x_{2}\\right)\\right)} {\\left(e^{\\left(-t\\right)} - 1\\right)}^{2} {\\left(\\sin\\left(5 \\, x_{1} x_{2}\\right) + \\sin\\left(-4 \\, x_{1} x_{2} + 4 \\, x_{1} + 4 \\, x_{2}\\right)\\right)} + {\\left(5 \\, x_{2} \\cos\\left(5 \\, x_{1} x_{2}\\right) - 4 \\, {\\left(x_{2} - 1\\right)} \\cos\\left(-4 \\, x_{1} x_{2} + 4 \\, x_{1} + 4 \\, x_{2}\\right)\\right)} {\\left(e^{\\left(-t\\right)} - 1\\right)}^{2} {\\left(\\sin\\left(5 \\, x_{1} x_{2}\\right) + \\sin\\left(-4 \\, x_{1} x_{2} + 4 \\, x_{1} + 4 \\, x_{2}\\right)\\right)} - {\\left({\\left(25 \\, x_{1}^{2} \\sin\\left(5 \\, x_{1} x_{2}\\right) + 16 \\, {\\left(x_{1} - 1\\right)}^{2} \\sin\\left(-4 \\, x_{1} x_{2} + 4 \\, x_{1} + 4 \\, x_{2}\\right)\\right)} {\\left(e^{\\left(-t\\right)} - 1\\right)} + {\\left(25 \\, x_{2}^{2} \\sin\\left(5 \\, x_{1} x_{2}\\right) + 16 \\, {\\left(x_{2} - 1\\right)}^{2} \\sin\\left(-4 \\, x_{1} x_{2} + 4 \\, x_{1} + 4 \\, x_{2}\\right)\\right)} {\\left(e^{\\left(-t\\right)} - 1\\right)}\\right)} \\mathit{eps} + {\\left(\\sin\\left(5 \\, x_{1} x_{2}\\right) + \\sin\\left(-4 \\, x_{1} x_{2} + 4 \\, x_{1} + 4 \\, x_{2}\\right)\\right)} e^{\\left(-t\\right)}"
      ]
     },
     "execution_count": 72,
     "metadata": {},
     "output_type": "execute_result"
    }
   ],
   "source": [
    "latex(g)"
   ]
  },
  {
   "cell_type": "markdown",
   "metadata": {},
   "source": [
    "$$\n",
    "\\left( x_{1}, x_{2}, t \\right) \\ {\\mapsto} \\ {\\left(5 \\, x_{1} \\cos\\left(5 \\, x_{1} x_{2}\\right) - 4 \\, {\\left(x_{1} - 1\\right)} \\cos\\left(-4 \\, x_{1} x_{2} + 4 \\, x_{1} + 4 \\, x_{2}\\right)\\right)} {\\left(e^{\\left(-t\\right)} - 1\\right)}^{2} {\\left(\\sin\\left(5 \\, x_{1} x_{2}\\right) + \\sin\\left(-4 \\, x_{1} x_{2} + 4 \\, x_{1} + 4 \\, x_{2}\\right)\\right)} + {\\left(5 \\, x_{2} \\cos\\left(5 \\, x_{1} x_{2}\\right) - 4 \\, {\\left(x_{2} - 1\\right)} \\cos\\left(-4 \\, x_{1} x_{2} + 4 \\, x_{1} + 4 \\, x_{2}\\right)\\right)} {\\left(e^{\\left(-t\\right)} - 1\\right)}^{2} {\\left(\\sin\\left(5 \\, x_{1} x_{2}\\right) + \\sin\\left(-4 \\, x_{1} x_{2} + 4 \\, x_{1} + 4 \\, x_{2}\\right)\\right)} - {\\left({\\left(25 \\, x_{1}^{2} \\sin\\left(5 \\, x_{1} x_{2}\\right) + 16 \\, {\\left(x_{1} - 1\\right)}^{2} \\sin\\left(-4 \\, x_{1} x_{2} + 4 \\, x_{1} + 4 \\, x_{2}\\right)\\right)} {\\left(e^{\\left(-t\\right)} - 1\\right)} + {\\left(25 \\, x_{2}^{2} \\sin\\left(5 \\, x_{1} x_{2}\\right) + 16 \\, {\\left(x_{2} - 1\\right)}^{2} \\sin\\left(-4 \\, x_{1} x_{2} + 4 \\, x_{1} + 4 \\, x_{2}\\right)\\right)} {\\left(e^{\\left(-t\\right)} - 1\\right)}\\right)} \\mathit{eps} + {\\left(\\sin\\left(5 \\, x_{1} x_{2}\\right) + \\sin\\left(-4 \\, x_{1} x_{2} + 4 \\, x_{1} + 4 \\, x_{2}\\right)\\right)} e^{\\left(-t\\right)}\n",
    "$$"
   ]
  },
  {
   "cell_type": "code",
   "execution_count": 73,
   "metadata": {},
   "outputs": [
    {
     "data": {
      "text/plain": [
       "sin(5*x_1*x_2) + sin(-4*x_1*x_2 + 4*x_1 + 4*x_2)"
      ]
     },
     "execution_count": 73,
     "metadata": {},
     "output_type": "execute_result"
    }
   ],
   "source": [
    "g(t=0)"
   ]
  },
  {
   "cell_type": "code",
   "execution_count": 74,
   "metadata": {},
   "outputs": [
    {
     "data": {
      "text/plain": [
       "(x_1, x_2, t) |--> (4*x_2*(e^(2*t) - 2*e^t + 1)*cos(4*x_1)*sin(4*x_1) - 8*(x_2*(e^(2*t) - 2*e^t + 1)*cos(4*x_1)*sin(4*x_1) + (x_1*(e^(2*t) - 2*e^t + 1) - 2*e^(2*t) + 4*e^t - 2)*cos(4*x_1)*sin(4*x_1))*cos(4*x_2)^2 - 8*(x_2*(e^(2*t) - 2*e^t + 1)*cos(4*x_1)*sin(4*x_1) - 2*(x_2*(e^(2*t) - 2*e^t + 1)*cos(4*x_1)*sin(4*x_1) + (x_1*(e^(2*t) - 2*e^t + 1) - 2*e^(2*t) + 4*e^t - 2)*cos(4*x_1)*sin(4*x_1))*cos(4*x_2)^2 + (x_1*(e^(2*t) - 2*e^t + 1) - 2*e^(2*t) + 4*e^t - 2)*cos(4*x_1)*sin(4*x_1) - (2*(x_1*(e^(2*t) - 2*e^t + 1) - 2*e^(2*t) + 4*e^t - 2)*cos(4*x_1)^2 + (2*(e^(2*t) - 2*e^t + 1)*cos(4*x_1)^2 - e^(2*t) + 2*e^t - 1)*x_2 - x_1*(e^(2*t) - 2*e^t + 1) + 2*e^(2*t) - 4*e^t + 2)*cos(4*x_2)*sin(4*x_2))*sin(4*x_1*x_2)^2 + 4*(x_1*(e^(2*t) - 2*e^t + 1) - 2*e^(2*t) + 4*e^t - 2)*cos(4*x_1)*sin(4*x_1) - 4*(2*(x_1*(e^(2*t) - 2*e^t + 1) - 2*e^(2*t) + 4*e^t - 2)*cos(4*x_1)^2 + (2*(e^(2*t) - 2*e^t + 1)*cos(4*x_1)^2 - e^(2*t) + 2*e^t - 1)*x_2 - x_1*(e^(2*t) - 2*e^t + 1) + 2*e^(2*t) - 4*e^t + 2)*cos(4*x_2)*sin(4*x_2) + (80*((x_1*(e^(2*t) - 2*e^t + 1)*sin(4*x_1) + x_2*(e^(2*t) - 2*e^t + 1)*sin(4*x_1))*cos(4*x_2) + (x_1*(e^(2*t) - 2*e^t + 1)*cos(4*x_1) + x_2*(e^(2*t) - 2*e^t + 1)*cos(4*x_1))*sin(4*x_2))*cos(x_1*x_2)^5 - 100*((x_1*(e^(2*t) - 2*e^t + 1)*sin(4*x_1) + x_2*(e^(2*t) - 2*e^t + 1)*sin(4*x_1))*cos(4*x_2) + (x_1*(e^(2*t) - 2*e^t + 1)*cos(4*x_1) + x_2*(e^(2*t) - 2*e^t + 1)*cos(4*x_1))*sin(4*x_2))*cos(x_1*x_2)^3 + 25*((x_1*(e^(2*t) - 2*e^t + 1)*sin(4*x_1) + x_2*(e^(2*t) - 2*e^t + 1)*sin(4*x_1))*cos(4*x_2) + (x_1*(e^(2*t) - 2*e^t + 1)*cos(4*x_1) + x_2*(e^(2*t) - 2*e^t + 1)*cos(4*x_1))*sin(4*x_2))*cos(x_1*x_2) + (16*(eps*e^(2*t) - eps*e^t)*x_2^2*sin(4*x_1) - 32*(eps*e^(2*t) - eps*e^t)*x_2*sin(4*x_1) + (16*(eps*e^(2*t) - eps*e^t)*x_1^2 - 32*(eps*e^(2*t) - eps*e^t)*x_1 + 32*eps*e^(2*t) - (32*eps - 1)*e^t)*sin(4*x_1))*cos(4*x_2) - 4*(16*((x_2*(e^(2*t) - 2*e^t + 1)*cos(4*x_1) + (x_1*(e^(2*t) - 2*e^t + 1) - 2*e^(2*t) + 4*e^t - 2)*cos(4*x_1))*cos(4*x_2) - (x_2*(e^(2*t) - 2*e^t + 1)*sin(4*x_1) + (x_1*(e^(2*t) - 2*e^t + 1) - 2*e^(2*t) + 4*e^t - 2)*sin(4*x_1))*sin(4*x_2))*cos(x_1*x_2)^4 - 12*((x_2*(e^(2*t) - 2*e^t + 1)*cos(4*x_1) + (x_1*(e^(2*t) - 2*e^t + 1) - 2*e^(2*t) + 4*e^t - 2)*cos(4*x_1))*cos(4*x_2) - (x_2*(e^(2*t) - 2*e^t + 1)*sin(4*x_1) + (x_1*(e^(2*t) - 2*e^t + 1) - 2*e^(2*t) + 4*e^t - 2)*sin(4*x_1))*sin(4*x_2))*cos(x_1*x_2)^2 + (x_2*(e^(2*t) - 2*e^t + 1)*cos(4*x_1) + (x_1*(e^(2*t) - 2*e^t + 1) - 2*e^(2*t) + 4*e^t - 2)*cos(4*x_1))*cos(4*x_2) - (x_2*(e^(2*t) - 2*e^t + 1)*sin(4*x_1) + (x_1*(e^(2*t) - 2*e^t + 1) - 2*e^(2*t) + 4*e^t - 2)*sin(4*x_1))*sin(4*x_2))*sin(x_1*x_2) + (16*(eps*e^(2*t) - eps*e^t)*x_2^2*cos(4*x_1) - 32*(eps*e^(2*t) - eps*e^t)*x_2*cos(4*x_1) + (16*(eps*e^(2*t) - eps*e^t)*x_1^2 - 32*(eps*e^(2*t) - eps*e^t)*x_1 + 32*eps*e^(2*t) - (32*eps - 1)*e^t)*cos(4*x_1))*sin(4*x_2))*cos(4*x_1*x_2) - (80*((x_1*(e^(2*t) - 2*e^t + 1)*cos(4*x_1) + x_2*(e^(2*t) - 2*e^t + 1)*cos(4*x_1))*cos(4*x_2) - (x_1*(e^(2*t) - 2*e^t + 1)*sin(4*x_1) + x_2*(e^(2*t) - 2*e^t + 1)*sin(4*x_1))*sin(4*x_2))*cos(x_1*x_2)^5 - 100*((x_1*(e^(2*t) - 2*e^t + 1)*cos(4*x_1) + x_2*(e^(2*t) - 2*e^t + 1)*cos(4*x_1))*cos(4*x_2) - (x_1*(e^(2*t) - 2*e^t + 1)*sin(4*x_1) + x_2*(e^(2*t) - 2*e^t + 1)*sin(4*x_1))*sin(4*x_2))*cos(x_1*x_2)^3 + 4*(2*(x_1*(e^(2*t) - 2*e^t + 1) - 2*e^(2*t) + 4*e^t - 2)*cos(4*x_1)^2 - 2*(2*(x_1*(e^(2*t) - 2*e^t + 1) - 2*e^(2*t) + 4*e^t - 2)*cos(4*x_1)^2 + (2*(e^(2*t) - 2*e^t + 1)*cos(4*x_1)^2 - e^(2*t) + 2*e^t - 1)*x_2 - x_1*(e^(2*t) - 2*e^t + 1) + 2*e^(2*t) - 4*e^t + 2)*cos(4*x_2)^2 + 4*(x_2*(e^(2*t) - 2*e^t + 1)*cos(4*x_1)*sin(4*x_1) + (x_1*(e^(2*t) - 2*e^t + 1) - 2*e^(2*t) + 4*e^t - 2)*cos(4*x_1)*sin(4*x_1))*cos(4*x_2)*sin(4*x_2) + (2*(e^(2*t) - 2*e^t + 1)*cos(4*x_1)^2 - e^(2*t) + 2*e^t - 1)*x_2 - x_1*(e^(2*t) - 2*e^t + 1) + 2*e^(2*t) - 4*e^t + 2)*cos(4*x_1*x_2) + 25*((x_1*(e^(2*t) - 2*e^t + 1)*cos(4*x_1) + x_2*(e^(2*t) - 2*e^t + 1)*cos(4*x_1))*cos(4*x_2) - (x_1*(e^(2*t) - 2*e^t + 1)*sin(4*x_1) + x_2*(e^(2*t) - 2*e^t + 1)*sin(4*x_1))*sin(4*x_2))*cos(x_1*x_2) + (16*(eps*e^(2*t) - eps*e^t)*x_2^2*cos(4*x_1) - 32*(eps*e^(2*t) - eps*e^t)*x_2*cos(4*x_1) + (16*(eps*e^(2*t) - eps*e^t)*x_1^2 - 32*(eps*e^(2*t) - eps*e^t)*x_1 + 32*eps*e^(2*t) - (32*eps - 1)*e^t)*cos(4*x_1))*cos(4*x_2) + 4*(16*((x_2*(e^(2*t) - 2*e^t + 1)*sin(4*x_1) + (x_1*(e^(2*t) - 2*e^t + 1) - 2*e^(2*t) + 4*e^t - 2)*sin(4*x_1))*cos(4*x_2) + (x_2*(e^(2*t) - 2*e^t + 1)*cos(4*x_1) + (x_1*(e^(2*t) - 2*e^t + 1) - 2*e^(2*t) + 4*e^t - 2)*cos(4*x_1))*sin(4*x_2))*cos(x_1*x_2)^4 - 12*((x_2*(e^(2*t) - 2*e^t + 1)*sin(4*x_1) + (x_1*(e^(2*t) - 2*e^t + 1) - 2*e^(2*t) + 4*e^t - 2)*sin(4*x_1))*cos(4*x_2) + (x_2*(e^(2*t) - 2*e^t + 1)*cos(4*x_1) + (x_1*(e^(2*t) - 2*e^t + 1) - 2*e^(2*t) + 4*e^t - 2)*cos(4*x_1))*sin(4*x_2))*cos(x_1*x_2)^2 + (x_2*(e^(2*t) - 2*e^t + 1)*sin(4*x_1) + (x_1*(e^(2*t) - 2*e^t + 1) - 2*e^(2*t) + 4*e^t - 2)*sin(4*x_1))*cos(4*x_2) + (x_2*(e^(2*t) - 2*e^t + 1)*cos(4*x_1) + (x_1*(e^(2*t) - 2*e^t + 1) - 2*e^(2*t) + 4*e^t - 2)*cos(4*x_1))*sin(4*x_2))*sin(x_1*x_2) - (16*(eps*e^(2*t) - eps*e^t)*x_2^2*sin(4*x_1) - 32*(eps*e^(2*t) - eps*e^t)*x_2*sin(4*x_1) + (16*(eps*e^(2*t) - eps*e^t)*x_1^2 - 32*(eps*e^(2*t) - eps*e^t)*x_1 + 32*eps*e^(2*t) - (32*eps - 1)*e^t)*sin(4*x_1))*sin(4*x_2))*sin(4*x_1*x_2) + (1280*(x_1*(e^(2*t) - 2*e^t + 1) + x_2*(e^(2*t) - 2*e^t + 1))*cos(x_1*x_2)^9 - 2560*(x_1*(e^(2*t) - 2*e^t + 1) + x_2*(e^(2*t) - 2*e^t + 1))*cos(x_1*x_2)^7 + 1680*(x_1*(e^(2*t) - 2*e^t + 1) + x_2*(e^(2*t) - 2*e^t + 1))*cos(x_1*x_2)^5 + 16*(25*(eps*e^(2*t) - eps*e^t)*x_1^2 + 25*(eps*e^(2*t) - eps*e^t)*x_2^2 + e^t)*cos(x_1*x_2)^4 - 400*(x_1*(e^(2*t) - 2*e^t + 1) + x_2*(e^(2*t) - 2*e^t + 1))*cos(x_1*x_2)^3 + 25*(eps*e^(2*t) - eps*e^t)*x_1^2 + 25*(eps*e^(2*t) - eps*e^t)*x_2^2 - 12*(25*(eps*e^(2*t) - eps*e^t)*x_1^2 + 25*(eps*e^(2*t) - eps*e^t)*x_2^2 + e^t)*cos(x_1*x_2)^2 + 25*(x_1*(e^(2*t) - 2*e^t + 1) + x_2*(e^(2*t) - 2*e^t + 1))*cos(x_1*x_2) + e^t)*sin(x_1*x_2))*e^(-2*t)"
      ]
     },
     "execution_count": 74,
     "metadata": {},
     "output_type": "execute_result"
    }
   ],
   "source": [
    "g.simplify_trig()"
   ]
  },
  {
   "cell_type": "code",
   "execution_count": 77,
   "metadata": {},
   "outputs": [
    {
     "name": "stderr",
     "output_type": "stream",
     "text": [
      "/opt/sagemath-8.5/local/lib/python2.7/site-packages/matplotlib/font_manager.py:278: UserWarning: Matplotlib is building the font cache using fc-list. This may take a moment.\n",
      "  'Matplotlib is building the font cache using fc-list. '\n"
     ]
    },
    {
     "data": {
      "image/png": "[encoded data removed]",
      "text/plain": [
       "Graphics object consisting of 1 graphics primitive"
      ]
     },
     "execution_count": 77,
     "metadata": {},
     "output_type": "execute_result"
    }
   ],
   "source": [
    "contour_plot(g(t=0), (x_1, -1,1), (x_2, -1,1))"
   ]
  },
  {
   "cell_type": "code",
   "execution_count": null,
   "metadata": {},
   "outputs": [],
   "source": []
  }
 ],
 "metadata": {
  "kernelspec": {
   "display_name": "SageMath 8.5",
   "language": "",
   "name": "sagemath"
  },
  "language_info": {
   "codemirror_mode": {
    "name": "ipython",
    "version": 2
   },
   "file_extension": ".py",
   "mimetype": "text/x-python",
   "name": "python",
   "nbconvert_exporter": "python",
   "pygments_lexer": "ipython2",
   "version": "2.7.15"
  }
 },
 "nbformat": 4,
 "nbformat_minor": 2
}
