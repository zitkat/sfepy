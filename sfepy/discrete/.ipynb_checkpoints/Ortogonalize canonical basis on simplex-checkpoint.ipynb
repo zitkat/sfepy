{
 "cells": [
  {
   "cell_type": "markdown",
   "metadata": {},
   "source": [
    "# Ortogonalize canonical basis on simplex"
   ]
  },
  {
   "cell_type": "code",
   "execution_count": 8,
   "metadata": {},
   "outputs": [],
   "source": [
    "def gramm_schmidt(base, dot_prod):\n",
    "    '''\n",
    "    Ortogonalizuje bázi base vůči skálárnímu součinu dot_prod\n",
    "    :param base:\n",
    "    :param dot_prod:\n",
    "    :return:\n",
    "    '''\n",
    "    new_base = []\n",
    "    for i in range(len(base)):\n",
    "        new_base.append(ortogonalize(base[i], new_base, dot_prod))\n",
    "    return new_base\n",
    "\n",
    "\n",
    "def ortogonalize(vec, base, dot_prod):\n",
    "    for j in range(len(base)):\n",
    "        kap = - dot_prod(vec, base[j]) / dot_prod(base[j], base[j])\n",
    "        vec = vec + kap * base[j]\n",
    "    return vec"
   ]
  },
  {
   "cell_type": "code",
   "execution_count": 9,
   "metadata": {},
   "outputs": [
    {
     "data": {
      "text/plain": [
       "(x, y)"
      ]
     },
     "execution_count": 9,
     "metadata": {},
     "output_type": "execute_result"
    }
   ],
   "source": [
    "var(\"x\", \"y\")"
   ]
  },
  {
   "cell_type": "code",
   "execution_count": null,
   "metadata": {},
   "outputs": [],
   "source": []
  }
 ],
 "metadata": {
  "kernelspec": {
   "display_name": "SageMath 8.4",
   "language": "",
   "name": "sagemath"
  },
  "language_info": {
   "codemirror_mode": {
    "name": "ipython",
    "version": 2
   },
   "file_extension": ".py",
   "mimetype": "text/x-python",
   "name": "python",
   "nbconvert_exporter": "python",
   "pygments_lexer": "ipython2",
   "version": "2.7.15"
  }
 },
 "nbformat": 4,
 "nbformat_minor": 2
}
