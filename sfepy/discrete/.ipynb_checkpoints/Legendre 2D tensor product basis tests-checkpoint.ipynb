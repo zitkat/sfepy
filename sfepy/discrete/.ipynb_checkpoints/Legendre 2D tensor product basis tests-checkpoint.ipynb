{
 "cells": [
  {
   "cell_type": "markdown",
   "metadata": {},
   "source": [
    "# Legendre 2D tensor product basis tests"
   ]
  },
  {
   "cell_type": "code",
   "execution_count": 1,
   "metadata": {},
   "outputs": [
    {
     "ename": "ImportError",
     "evalue": "No module named dg_basis",
     "output_type": "error",
     "traceback": [
      "\u001b[1;31m---------------------------------------------------------------------------\u001b[0m",
      "\u001b[1;31mImportError\u001b[0m                               Traceback (most recent call last)",
      "\u001b[1;32m<ipython-input-1-7f084d643480>\u001b[0m in \u001b[0;36m<module>\u001b[1;34m()\u001b[0m\n\u001b[1;32m----> 1\u001b[1;33m \u001b[1;32mfrom\u001b[0m \u001b[0mdg_basis\u001b[0m \u001b[1;32mimport\u001b[0m \u001b[0miter_by_order\u001b[0m\u001b[1;33m\u001b[0m\u001b[0m\n\u001b[0m",
      "\u001b[1;31mImportError\u001b[0m: No module named dg_basis"
     ]
    }
   ],
   "source": [
    "from dg_basis import iter_by_order"
   ]
  },
  {
   "cell_type": "code",
   "execution_count": 2,
   "metadata": {},
   "outputs": [],
   "source": [
    "order = 5"
   ]
  },
  {
   "cell_type": "code",
   "execution_count": 3,
   "metadata": {},
   "outputs": [],
   "source": [
    "# define 1D basis polynoms, so far only few of them\n",
    "var(\"x\")\n",
    "P = [1,\n",
    "     2 * x - 1,\n",
    "     6 * x ** 2 - 6 * x + 1,\n",
    "     20 * x ** 3 - 30 * x ** 2 + 12 * x - 1,\n",
    "     70 * x ** 4 - 140 * x ** 3 + 90 * x ** 2 - 20 * x + 1,\n",
    "     252 * x ** 5 - 630 * x ** 4 + 560 * x ** 3 - 210 * x ** 2 + 30 * x - 1]"
   ]
  },
  {
   "cell_type": "code",
   "execution_count": 4,
   "metadata": {},
   "outputs": [
    {
     "name": "stdout",
     "output_type": "stream",
     "text": [
      "P_0 = 1\n",
      "P_1 = 2*y - 1\n",
      "P_2 = 6*y**2 - 6*y + 1\n",
      "P_3 = 20*y**3 - 30*y**2 + 12*y - 1\n",
      "P_4 = 70*y**4 - 140*y**3 + 90*y**2 - 20*y + 1\n",
      "P_5 = 252*y**5 - 630*y**4 + 560*y**3 - 210*y**2 + 30*y - 1\n",
      "P_6 = 2*x - 1\n",
      "P_7 = (2*x - 1)*(2*y - 1)\n",
      "P_8 = (2*x - 1)*(6*y**2 - 6*y + 1)\n",
      "P_9 = (2*x - 1)*(20*y**3 - 30*y**2 + 12*y - 1)\n",
      "P_10 = (2*x - 1)*(70*y**4 - 140*y**3 + 90*y**2 - 20*y + 1)\n",
      "P_11 = 6*x**2 - 6*x + 1\n",
      "P_12 = (2*y - 1)*(6*x**2 - 6*x + 1)\n",
      "P_13 = (6*x**2 - 6*x + 1)*(6*y**2 - 6*y + 1)\n",
      "P_14 = (6*x**2 - 6*x + 1)*(20*y**3 - 30*y**2 + 12*y - 1)\n",
      "P_15 = 20*x**3 - 30*x**2 + 12*x - 1\n",
      "P_16 = (2*y - 1)*(20*x**3 - 30*x**2 + 12*x - 1)\n",
      "P_17 = (6*y**2 - 6*y + 1)*(20*x**3 - 30*x**2 + 12*x - 1)\n",
      "P_18 = 70*x**4 - 140*x**3 + 90*x**2 - 20*x + 1\n",
      "P_19 = (2*y - 1)*(70*x**4 - 140*x**3 + 90*x**2 - 20*x + 1)\n",
      "P_20 = 252*x**5 - 630*x**4 + 560*x**3 - 210*x**2 + 30*x - 1\n"
     ]
    }
   ],
   "source": [
    "y = Symbol(\"y\", positive=True)\n",
    "tensorP = list()\n",
    "for m, idx in enumerate(iter_by_order(order, 2)):\n",
    "    #print(\"P_{} = ({})*({})\".format(m, P[idx[0]], P[idx[1]].subs(x, y)))\n",
    "    print(\"P_{} = {}\".format(m, P[idx[0]]*P[idx[1]].subs(x, y)))\n",
    "    tensorP.append(P[idx[0]]*P[idx[1]].subs(x, y))"
   ]
  },
  {
   "cell_type": "code",
   "execution_count": 5,
   "metadata": {},
   "outputs": [
    {
     "data": {
      "text/plain": [
       "Matrix([\n",
       "[1,   0,   0,   0,   0,    0,   0,   0,    0,    0,    0,   0,    0,    0,    0,   0,    0,    0,   0,    0,    0],\n",
       "[0, 1/3,   0,   0,   0,    0,   0,   0,    0,    0,    0,   0,    0,    0,    0,   0,    0,    0,   0,    0,    0],\n",
       "[0,   0, 1/5,   0,   0,    0,   0,   0,    0,    0,    0,   0,    0,    0,    0,   0,    0,    0,   0,    0,    0],\n",
       "[0,   0,   0, 1/7,   0,    0,   0,   0,    0,    0,    0,   0,    0,    0,    0,   0,    0,    0,   0,    0,    0],\n",
       "[0,   0,   0,   0, 1/9,    0,   0,   0,    0,    0,    0,   0,    0,    0,    0,   0,    0,    0,   0,    0,    0],\n",
       "[0,   0,   0,   0,   0, 1/11,   0,   0,    0,    0,    0,   0,    0,    0,    0,   0,    0,    0,   0,    0,    0],\n",
       "[0,   0,   0,   0,   0,    0, 1/3,   0,    0,    0,    0,   0,    0,    0,    0,   0,    0,    0,   0,    0,    0],\n",
       "[0,   0,   0,   0,   0,    0,   0, 1/9,    0,    0,    0,   0,    0,    0,    0,   0,    0,    0,   0,    0,    0],\n",
       "[0,   0,   0,   0,   0,    0,   0,   0, 1/15,    0,    0,   0,    0,    0,    0,   0,    0,    0,   0,    0,    0],\n",
       "[0,   0,   0,   0,   0,    0,   0,   0,    0, 1/21,    0,   0,    0,    0,    0,   0,    0,    0,   0,    0,    0],\n",
       "[0,   0,   0,   0,   0,    0,   0,   0,    0,    0, 1/27,   0,    0,    0,    0,   0,    0,    0,   0,    0,    0],\n",
       "[0,   0,   0,   0,   0,    0,   0,   0,    0,    0,    0, 1/5,    0,    0,    0,   0,    0,    0,   0,    0,    0],\n",
       "[0,   0,   0,   0,   0,    0,   0,   0,    0,    0,    0,   0, 1/15,    0,    0,   0,    0,    0,   0,    0,    0],\n",
       "[0,   0,   0,   0,   0,    0,   0,   0,    0,    0,    0,   0,    0, 1/25,    0,   0,    0,    0,   0,    0,    0],\n",
       "[0,   0,   0,   0,   0,    0,   0,   0,    0,    0,    0,   0,    0,    0, 1/35,   0,    0,    0,   0,    0,    0],\n",
       "[0,   0,   0,   0,   0,    0,   0,   0,    0,    0,    0,   0,    0,    0,    0, 1/7,    0,    0,   0,    0,    0],\n",
       "[0,   0,   0,   0,   0,    0,   0,   0,    0,    0,    0,   0,    0,    0,    0,   0, 1/21,    0,   0,    0,    0],\n",
       "[0,   0,   0,   0,   0,    0,   0,   0,    0,    0,    0,   0,    0,    0,    0,   0,    0, 1/35,   0,    0,    0],\n",
       "[0,   0,   0,   0,   0,    0,   0,   0,    0,    0,    0,   0,    0,    0,    0,   0,    0,    0, 1/9,    0,    0],\n",
       "[0,   0,   0,   0,   0,    0,   0,   0,    0,    0,    0,   0,    0,    0,    0,   0,    0,    0,   0, 1/27,    0],\n",
       "[0,   0,   0,   0,   0,    0,   0,   0,    0,    0,    0,   0,    0,    0,    0,   0,    0,    0,   0,    0, 1/11]])"
      ]
     },
     "execution_count": 5,
     "metadata": {},
     "output_type": "execute_result"
    }
   ],
   "source": [
    "Np = len(tensorP)\n",
    "vendM = ones(Np, Np)\n",
    "for i in range(Np):\n",
    "    for j in range(Np):\n",
    "        vendM[i, j] = integrate(integrate(tensorP[i]*tensorP[j], (x, 0, 1)), (y, 0, 1))  # Fubini, yayy!\n",
    "vendM"
   ]
  },
  {
   "cell_type": "markdown",
   "metadata": {},
   "source": [
    "The basis is orthogonal!"
   ]
  },
  {
   "cell_type": "code",
   "execution_count": 6,
   "metadata": {},
   "outputs": [
    {
     "data": {
      "text/plain": [
       "35"
      ]
     },
     "execution_count": 6,
     "metadata": {},
     "output_type": "execute_result"
    }
   ],
   "source": [
    "vendM.condition_number()"
   ]
  },
  {
   "cell_type": "markdown",
   "metadata": {},
   "source": [
    "Condition number seems to grow with square of order, but does it matter, when the matrix is diagonal?"
   ]
  },
  {
   "cell_type": "code",
   "execution_count": null,
   "metadata": {},
   "outputs": [],
   "source": []
  }
 ],
 "metadata": {
  "kernelspec": {
   "display_name": "SageMath 8.4",
   "language": "",
   "name": "sagemath"
  },
  "language_info": {
   "codemirror_mode": {
    "name": "ipython",
    "version": 2
   },
   "file_extension": ".py",
   "mimetype": "text/x-python",
   "name": "python",
   "nbconvert_exporter": "python",
   "pygments_lexer": "ipython2",
   "version": "2.7.15"
  }
 },
 "nbformat": 4,
 "nbformat_minor": 2
}
